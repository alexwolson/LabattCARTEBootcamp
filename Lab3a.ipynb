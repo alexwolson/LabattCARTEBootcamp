{
 "cells": [
  {
   "cell_type": "markdown",
   "id": "1804f81c-2a0a-43ac-a3d6-ea2dbdb16cea",
   "metadata": {
    "id": "1804f81c-2a0a-43ac-a3d6-ea2dbdb16cea"
   },
   "source": [
    "# UofT CARTE Labatt ML Bootcamp\n",
    "#### Lab 3a\n",
    "##### Lab author: Alexander Olson, alex.olson@utoronto.ca"
   ]
  },
  {
   "cell_type": "markdown",
   "id": "cad8a083-1cc1-46a8-8021-71b205bf4c71",
   "metadata": {
    "id": "cad8a083-1cc1-46a8-8021-71b205bf4c71"
   },
   "source": [
    "In this lab we will look at practical examples of using optimization, with the open source Google OR-Tools toolkit. Let's install that now:"
   ]
  },
  {
   "cell_type": "code",
   "execution_count": 1,
   "id": "12bb5369-ffbc-4792-b9ee-897cca1bc9e5",
   "metadata": {
    "colab": {
     "base_uri": "https://localhost:8080/"
    },
    "id": "12bb5369-ffbc-4792-b9ee-897cca1bc9e5",
    "outputId": "327a0473-cb26-4de8-d1a5-a58a4d56476f"
   },
   "outputs": [
    {
     "name": "stdout",
     "output_type": "stream",
     "text": [
      "Requirement already satisfied: ortools in /Users/alex/miniconda3/envs/bootcamp/lib/python3.9/site-packages (9.3.10497)\n",
      "Requirement already satisfied: numpy>=1.13.3 in /Users/alex/miniconda3/envs/bootcamp/lib/python3.9/site-packages (from ortools) (1.22.4)\n",
      "Requirement already satisfied: absl-py>=0.13 in /Users/alex/miniconda3/envs/bootcamp/lib/python3.9/site-packages (from ortools) (1.1.0)\n",
      "Requirement already satisfied: protobuf>=3.19.4 in /Users/alex/miniconda3/envs/bootcamp/lib/python3.9/site-packages (from ortools) (4.21.1)\n"
     ]
    }
   ],
   "source": [
    "!pip install -U ortools"
   ]
  },
  {
   "cell_type": "markdown",
   "id": "6ec0f736-f94d-4ef4-826d-9b25f3acb65a",
   "metadata": {},
   "source": [
    "# Optimizing beer production\n",
    "\n",
    "Let's say that you are trying to decide how much to produce of four different beers - an IPA, a lager, a wheat beer and a pilsner. All these beers use the same basic ingredients, but in different quantities. On top of that, they sell for different prices, and there is a certain amount of demand for each beer that we are don't expect to go over. With all this in mind, we can use integer programming to figure out the optimal amount we should produce of each beer so that our revenue is maximized.\n",
    "\n",
    "Let's start with some boilerplate creating the model we are going to use:"
   ]
  },
  {
   "cell_type": "code",
   "execution_count": 2,
   "id": "a9166ca2-0243-4974-8175-8ef79507f35c",
   "metadata": {
    "id": "b1dc8f19-9bdc-4a34-a7b2-bca46213c090"
   },
   "outputs": [],
   "source": [
    "from ortools.linear_solver import pywraplp\n",
    "# Create the mip solver with the SCIP backend.\n",
    "solver = pywraplp.Solver.CreateSolver('SCIP')"
   ]
  },
  {
   "cell_type": "markdown",
   "id": "b0d092e9-ef90-4f1e-8fa3-4d867f11d449",
   "metadata": {},
   "source": [
    "Now we need to take the information about our four beers, and translate it into the format the model understands.\n",
    "\n",
    "## IPA\n",
    "\n",
    "The IPA uses 3 units of grain, 1 unit of hops, 2 units of yeast and 10 units of water.\n",
    "\n",
    "It sells for \\$4.75, and we don't expect to sell more than 300 units.\n",
    "\n",
    "## Lager\n",
    "\n",
    "The Lager uses 4 units of grain, 2 of hops, 1 yeast and 9 water.\n",
    "\n",
    "It sells for \\$5.25 and we expect demand to max out at 400 units.\n",
    "\n",
    "## Wheat Beer\n",
    "\n",
    "The Wheat Beer uses 1 grain, 1 hops, 6 yeast and 11 water.\n",
    "\n",
    "It sells for \\$4.00 and is expected to be popular, with up to 700 units sold.\n",
    "\n",
    "## Pilsner\n",
    "\n",
    "The Pilsner uses 2 grain, 3 hops, 2 yeast and only 4 water.\n",
    "\n",
    "It sells for \\$2.75 and we only expect to sell up to 200 units.\n",
    "\n",
    "Now that we have laid out this information, we need to go through and input it to the model.\n",
    "\n",
    "**Your Turn** \n",
    "\n",
    "First let's define the variables that track how many units of each beer we are going to produce. Since we only make whole numbers of units, these need to be integer variables. We have an upper and lower limit for each variable - below we have created the variable for the IPA for you. Go ahead and add the other three variables, using the same format as the example."
   ]
  },
  {
   "cell_type": "code",
   "execution_count": 3,
   "id": "e51a3baf-5404-40e8-83bb-36c1d3cbb3c0",
   "metadata": {},
   "outputs": [],
   "source": [
    "I = solver.IntVar(0.0, 300.0, 'IPA') #0 is the minimum number of units, and 300 is the maximium.\n",
    "L = solver.IntVar(0.0, 400.0, 'Lager')\n",
    "W = solver.IntVar(0.0, 700.0, 'Wheat Beer')\n",
    "P = solver.IntVar(0.0, 200.0, 'Pilsner')"
   ]
  },
  {
   "cell_type": "markdown",
   "id": "78629621-9377-49dd-adef-104fae839e6d",
   "metadata": {},
   "source": [
    "Now we need to add our constraints. In this case, we only have a finite amount of each of the ingredients, and we need to decide where best to allocate them. Let's say we have 1500 units of grain, 3000 units of hops, 6000 units of yeast and 10000 units of water.\n",
    "\n",
    "As above, we have provided the first example - the constraint for grain. This adds up the number of units of grain used across all the beers and says that it cannot be higher than 1500. Go ahead and add similar equations for hops, yeast and water:"
   ]
  },
  {
   "cell_type": "code",
   "execution_count": 4,
   "id": "149daf97-852b-467a-97d6-f1ee7903e785",
   "metadata": {},
   "outputs": [
    {
     "data": {
      "text/plain": [
       "<ortools.linear_solver.pywraplp.Constraint; proxy of <Swig Object of type 'operations_research::MPConstraint *' at 0x10d857570> >"
      ]
     },
     "execution_count": 4,
     "metadata": {},
     "output_type": "execute_result"
    }
   ],
   "source": [
    "# Grain: 3 per IPA + 4 per Lager + 1 per Wheat + 2 per Pilsner <= 1500 total units\n",
    "solver.Add(3*I + 4*L + 1*W + 2*P <= 1500)\n",
    "\n",
    "solver.Add(1*I + 2*L + 1*W + 3*P <= 3000)\n",
    "\n",
    "solver.Add(2*I + 1*L + 6*W + 2*P <= 6000)\n",
    "\n",
    "solver.Add(10*I+ 9*L+ 11*W + 4*P <= 10000)"
   ]
  },
  {
   "cell_type": "markdown",
   "id": "81fe0d86-cefc-4d02-9d1d-4dba1b56a045",
   "metadata": {},
   "source": [
    "Now we have set up our system with the amount of each resource used in producing a given beer, how much of the resources we have available, and what the maximum amount of each beer we want to produce is.\n",
    "\n",
    "The last step is to define for the model what exactly we want to maximize. Here, it's the revenue from selling these beers, and so we will define below how to calculate this:"
   ]
  },
  {
   "cell_type": "code",
   "execution_count": 5,
   "id": "0edcaacd-2b11-429a-a57c-ef20f5653636",
   "metadata": {},
   "outputs": [],
   "source": [
    "solver.Maximize(4.75*I + 5.25*L + 4.00*W + 2.75*P)"
   ]
  },
  {
   "cell_type": "markdown",
   "id": "f5cc500a-85b0-45a0-af67-f3a106f7d56d",
   "metadata": {},
   "source": [
    "We are ready to run the model! "
   ]
  },
  {
   "cell_type": "code",
   "execution_count": 6,
   "id": "d48208cd-6590-42b4-a0a2-c3f8943d79e1",
   "metadata": {},
   "outputs": [],
   "source": [
    "status = solver.Solve()"
   ]
  },
  {
   "cell_type": "code",
   "execution_count": 7,
   "id": "c30d85f5-a6bf-4958-9e02-911f0725b588",
   "metadata": {},
   "outputs": [
    {
     "name": "stdout",
     "output_type": "stream",
     "text": [
      "Solution:\n",
      "Objective value = 4008.75\n",
      "174.0x IPA\n",
      "0.0x Lager\n",
      "700.0x Wheat Beer\n",
      "139.0x Pilsner\n"
     ]
    }
   ],
   "source": [
    "if status == pywraplp.Solver.OPTIMAL:\n",
    "    print('Solution:')\n",
    "    print('Objective value =', solver.Objective().Value())\n",
    "    print(f'{I.solution_value()}x IPA')\n",
    "    print(f'{L.solution_value()}x Lager')\n",
    "    print(f'{W.solution_value()}x Wheat Beer')\n",
    "    print(f'{P.solution_value()}x Pilsner')"
   ]
  },
  {
   "cell_type": "markdown",
   "id": "bbf60593-ab4b-4387-a6b0-8c011192aa24",
   "metadata": {},
   "source": [
    "Fantastic! The optimizer quickly solved for the optimal amount of each beer we should produce given these criteria. As you can see, though, the model has identified that it is much better for us to produce the IPA and the Wheat beer than the other two. \n",
    "\n",
    "**Bonus**\n",
    "\n",
    "1. Let's say that even in a year where selling the pilsner or the lager is less profitable, we still want to produce a certain amount so that we don't lose brand awareness. Where in the code that's been written can we define a minimum quantity? Go ahead and add in whatever minimum you would like to see what happens.\n",
    "\n",
    "2. We can use a model like this to figure out if the price we have set is too low for a given beer. If we raise or lower the price of one of the beers, how does it affect the final result?\n",
    "\n",
    "3. We can also use the model to figure out which of our ingredients is the most limited, i.e. keeping us from immediately producing more. Can you figure out in this example which of the four ingredients is limiting our production?"
   ]
  }
 ],
 "metadata": {
  "colab": {
   "collapsed_sections": [],
   "name": "Lab3.ipynb",
   "provenance": []
  },
  "kernelspec": {
   "display_name": "Python 3 (ipykernel)",
   "language": "python",
   "name": "python3"
  },
  "language_info": {
   "codemirror_mode": {
    "name": "ipython",
    "version": 3
   },
   "file_extension": ".py",
   "mimetype": "text/x-python",
   "name": "python",
   "nbconvert_exporter": "python",
   "pygments_lexer": "ipython3",
   "version": "3.9.13"
  }
 },
 "nbformat": 4,
 "nbformat_minor": 5
}
