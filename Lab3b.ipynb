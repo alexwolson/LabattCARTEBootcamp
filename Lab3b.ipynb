{
 "cells": [
  {
   "cell_type": "markdown",
   "id": "1804f81c-2a0a-43ac-a3d6-ea2dbdb16cea",
   "metadata": {
    "id": "1804f81c-2a0a-43ac-a3d6-ea2dbdb16cea"
   },
   "source": [
    "# UofT CARTE Labatt ML Bootcamp\n",
    "#### Lab 3\n",
    "##### Lab author: Alexander Olson, alex.olson@utoronto.ca"
   ]
  },
  {
   "cell_type": "markdown",
   "id": "cad8a083-1cc1-46a8-8021-71b205bf4c71",
   "metadata": {
    "id": "cad8a083-1cc1-46a8-8021-71b205bf4c71"
   },
   "source": [
    "In this lab we will look at practical examples of using optimization, with the open source Google OR-Tools toolkit. Let's install that now:"
   ]
  },
  {
   "cell_type": "code",
   "execution_count": 1,
   "id": "12bb5369-ffbc-4792-b9ee-897cca1bc9e5",
   "metadata": {
    "colab": {
     "base_uri": "https://localhost:8080/"
    },
    "id": "12bb5369-ffbc-4792-b9ee-897cca1bc9e5",
    "outputId": "327a0473-cb26-4de8-d1a5-a58a4d56476f"
   },
   "outputs": [
    {
     "name": "stdout",
     "output_type": "stream",
     "text": [
      "Requirement already satisfied: ortools in /Users/alex/miniconda3/envs/bootcamp/lib/python3.9/site-packages (9.3.10497)\n",
      "Requirement already satisfied: absl-py>=0.13 in /Users/alex/miniconda3/envs/bootcamp/lib/python3.9/site-packages (from ortools) (1.1.0)\n",
      "Requirement already satisfied: numpy>=1.13.3 in /Users/alex/miniconda3/envs/bootcamp/lib/python3.9/site-packages (from ortools) (1.22.4)\n",
      "Requirement already satisfied: protobuf>=3.19.4 in /Users/alex/miniconda3/envs/bootcamp/lib/python3.9/site-packages (from ortools) (4.21.1)\n"
     ]
    }
   ],
   "source": [
    "!pip install -U ortools"
   ]
  },
  {
   "cell_type": "markdown",
   "id": "1a149ce4-6b97-419c-ac13-a04f458d2e39",
   "metadata": {
    "id": "1a149ce4-6b97-419c-ac13-a04f458d2e39"
   },
   "source": [
    "In this lab, we are going to work through a scheduling problem which is slightly more complex than the one in the lecture.\n",
    "\n",
    "# Scheduling\n",
    "\n",
    "Organizations with employees that work numerous shifts must schedule enough people for each shift.\n",
    "The schedules will usually include restrictions such as \"no employee should work two shifts in a row.\"\n",
    "Finding a schedule that meets all of the requirements might be time consuming. \n",
    "\n",
    "In the following scenario, a hospital supervisor must construct a timetable for four nurses over the course of three days, subject to the following constraints:\n",
    "\n",
    "\n",
    "- Each day is divided into three shifts of eight hours each.\n",
    "\n",
    "- Every day, a single nurse is assigned to each shift, and no nurse works more than one shift at a time.\n",
    "\n",
    "- During the three-day period, each nurse is allocated to at least two shifts."
   ]
  },
  {
   "cell_type": "markdown",
   "id": "f36f8fc2-f080-4d76-aee5-facc843ebb63",
   "metadata": {
    "id": "f36f8fc2-f080-4d76-aee5-facc843ebb63"
   },
   "source": [
    "Let's import the model and get started:"
   ]
  },
  {
   "cell_type": "code",
   "execution_count": 2,
   "id": "eab74474-361a-4a67-83d5-6d6e8cb88d6e",
   "metadata": {
    "id": "eab74474-361a-4a67-83d5-6d6e8cb88d6e"
   },
   "outputs": [],
   "source": [
    "from ortools.sat.python import cp_model"
   ]
  },
  {
   "cell_type": "markdown",
   "id": "feeb089c-5473-4208-9eee-440ebae13365",
   "metadata": {
    "id": "feeb089c-5473-4208-9eee-440ebae13365"
   },
   "source": [
    "**YOUR TURN** \n",
    "\n",
    "We start by describing the parameters of our problem programatically. In the following cell, create variables `all_shifts`, and `all_days` which list the possible values for these attributes. `all_nurses` is done for you."
   ]
  },
  {
   "cell_type": "code",
   "execution_count": 3,
   "id": "7sIXdVL2mhv6",
   "metadata": {
    "id": "7sIXdVL2mhv6"
   },
   "outputs": [],
   "source": [
    "all_nurses = [0,1,2,3]\n",
    "all_shifts = [0,1,2]\n",
    "all_days = [0,1,2]"
   ]
  },
  {
   "cell_type": "code",
   "execution_count": 4,
   "id": "5671b703-2e9b-4272-bba4-6bc1e36a8457",
   "metadata": {
    "id": "5671b703-2e9b-4272-bba4-6bc1e36a8457"
   },
   "outputs": [],
   "source": [
    "num_nurses = len(all_nurses)\n",
    "num_shifts = len(all_shifts)\n",
    "num_days = len(all_days)"
   ]
  },
  {
   "cell_type": "markdown",
   "id": "d75aed2d-e846-4cad-8146-2668d97abda4",
   "metadata": {
    "id": "d75aed2d-e846-4cad-8146-2668d97abda4"
   },
   "source": [
    "We are now going to initialise our model, and create a variable for every possible combination of nurse, shift and day. In the lecture example, this was our variable $x_i^j$ which was equal to 1 if task $i$ was assigned to machine $j$. We are doing the same here for the nurses, except we have three variables: nurse, day, and shift.\n",
    "\n",
    "We do this by looping through all three of our variables in sequence and adding that possibility to a dictionary. This tells the model that we have a set of boolean (zero or one) variables that it will need to consider:"
   ]
  },
  {
   "cell_type": "code",
   "execution_count": 5,
   "id": "9d39efd6-d59b-42ba-881d-e9bb4c4384b8",
   "metadata": {
    "colab": {
     "base_uri": "https://localhost:8080/"
    },
    "id": "9d39efd6-d59b-42ba-881d-e9bb4c4384b8",
    "outputId": "f08ea709-3e5e-4f09-85a1-dd887746aada"
   },
   "outputs": [
    {
     "name": "stdout",
     "output_type": "stream",
     "text": [
      "Created 36 hypothetical shift assignments\n"
     ]
    }
   ],
   "source": [
    "model = cp_model.CpModel() #Create the empty model\n",
    "shifts = {} #We are going to save references to our variables here to use later\n",
    "for n in all_nurses:\n",
    "    for d in all_days:\n",
    "        for s in all_shifts:\n",
    "            shifts[(n, d,\n",
    "                    s)] = model.NewBoolVar('shift_n%id%is%i' % (n, d, s))\n",
    "\n",
    "print(f'Created {len(shifts)} hypothetical shift assignments')"
   ]
  },
  {
   "cell_type": "markdown",
   "id": "503f9bd1-722c-4d01-9f4f-817a1dd70e03",
   "metadata": {
    "id": "503f9bd1-722c-4d01-9f4f-817a1dd70e03"
   },
   "source": [
    "Now that we have our possible options, we need to start defining what we want the model to do with them. \n",
    "\n",
    "As we said, each nurse can only work one shift at a time, and only one shift per day. We will tell the model that for each shift on each day, exactly one assignment should have a value of 1:"
   ]
  },
  {
   "cell_type": "code",
   "execution_count": 6,
   "id": "3d74524c-ca2d-465b-b1df-d2dcff6ba3f2",
   "metadata": {
    "id": "3d74524c-ca2d-465b-b1df-d2dcff6ba3f2"
   },
   "outputs": [],
   "source": [
    "for d in all_days:\n",
    "    for s in all_shifts:\n",
    "        model.AddExactlyOne(shifts[(n, d, s)] for n in all_nurses) #This says that for each shift on each day, exactly one nurse should be assigned"
   ]
  },
  {
   "cell_type": "markdown",
   "id": "axIGiSl_oFak",
   "metadata": {
    "id": "axIGiSl_oFak"
   },
   "source": [
    "**YOUR TURN** \n",
    "\n",
    "Next, we need to say that on each day, a nurse should get at most one shift. The function to do this is `model.AddAtMostOne()`, and it works the same as the function above. In the cell below, fill out code to tell the model that for each nurse on each day, at most a single hypothetical assignment should be 1."
   ]
  },
  {
   "cell_type": "code",
   "execution_count": 7,
   "id": "5Jz_aSAaoErq",
   "metadata": {
    "id": "5Jz_aSAaoErq"
   },
   "outputs": [],
   "source": [
    "for n in all_nurses:\n",
    "    for d in all_days:\n",
    "        model.AddAtMostOne(shifts[(n,d,s)] for s in all_shifts)"
   ]
  },
  {
   "cell_type": "markdown",
   "id": "b7c2d4ac-9a7c-4ba5-b52e-4e855f9207cc",
   "metadata": {
    "id": "b7c2d4ac-9a7c-4ba5-b52e-4e855f9207cc"
   },
   "source": [
    "In our scenario, there are nine total shifts over the three-day period. With three nurses, that means that two nurses will work two shifts, and an unlucky third nurse will work three shifts. We need to tell the model that every nurse should work between 2 and 3 shifts."
   ]
  },
  {
   "cell_type": "code",
   "execution_count": 8,
   "id": "kUTEqe2kpELp",
   "metadata": {
    "colab": {
     "base_uri": "https://localhost:8080/"
    },
    "id": "kUTEqe2kpELp",
    "outputId": "1e850d0a-bc96-451d-cc68-2739117cb96b"
   },
   "outputs": [
    {
     "name": "stdout",
     "output_type": "stream",
     "text": [
      "Minimum shifts per nurse: 2\n"
     ]
    }
   ],
   "source": [
    "min_shifts_per_nurse = (num_shifts * num_days) // num_nurses #Divide the shifts between nurses with no remainder\n",
    "print(f'Minimum shifts per nurse: {min_shifts_per_nurse}')"
   ]
  },
  {
   "cell_type": "markdown",
   "id": "zc_ClFlwpRYr",
   "metadata": {
    "id": "zc_ClFlwpRYr"
   },
   "source": [
    "**YOUR TURN**\n",
    "\n",
    "Now we will define the upper bound. In the box below, write code that checks whether the total number of shifts can be cleanly divided between the nurses. If it can, the maximum is the same value as the minimum - set this in a variable called `max_shifts_per_nurse`. \n",
    "\n",
    "If there is a leftover shift, then the maximum will be one more than the minimum."
   ]
  },
  {
   "cell_type": "code",
   "execution_count": 9,
   "id": "34BF6l3lpOcH",
   "metadata": {
    "colab": {
     "base_uri": "https://localhost:8080/"
    },
    "id": "34BF6l3lpOcH",
    "outputId": "b7dc5115-8f4a-432d-9bdf-67467728b866"
   },
   "outputs": [
    {
     "name": "stdout",
     "output_type": "stream",
     "text": [
      "Max shifts per nurse: 3\n",
      "Min shifts per nurse: 2\n"
     ]
    }
   ],
   "source": [
    "import math\n",
    "\n",
    "true_shifts = (num_shifts * num_days) / num_nurses \n",
    "\n",
    "min_shifts_per_nurse = math.floor(true_shifts)\n",
    "\n",
    "max_shifts_per_nurse = math.ceil(true_shifts)\n",
    "\n",
    "print(f'Max shifts per nurse: {max_shifts_per_nurse}')\n",
    "print(f'Min shifts per nurse: {min_shifts_per_nurse}')"
   ]
  },
  {
   "cell_type": "markdown",
   "id": "UbVQfSwGpmou",
   "metadata": {
    "id": "UbVQfSwGpmou"
   },
   "source": [
    "We are almost finished defining our problem! We will now tell the model how to keep track of the number of shifts worked by each nurse, so that we can then add our constraints on the max and min number of shifts:"
   ]
  },
  {
   "cell_type": "code",
   "execution_count": 10,
   "id": "27f7b532-f98a-46cb-9c95-1afabeb02264",
   "metadata": {
    "id": "27f7b532-f98a-46cb-9c95-1afabeb02264"
   },
   "outputs": [],
   "source": [
    "for n in all_nurses:\n",
    "    #We create a variable which stores all of the potential shifts this nurse\n",
    "    #could have worked, so that the model knows how to count it\n",
    "    num_shifts_worked = []\n",
    "    for d in all_days:\n",
    "        for s in all_shifts:\n",
    "            num_shifts_worked.append(shifts[(n, d, s)])\n",
    "    \n",
    "    #Then we tell the model that the total value for that \n",
    "    #nurse must be between the maximum and the minimum\n",
    "    model.Add(min_shifts_per_nurse <= sum(num_shifts_worked))\n",
    "    model.Add(sum(num_shifts_worked) <= max_shifts_per_nurse)"
   ]
  },
  {
   "cell_type": "markdown",
   "id": "02d8e754-6642-4ff1-8c50-04768c7c0b7c",
   "metadata": {
    "id": "02d8e754-6642-4ff1-8c50-04768c7c0b7c"
   },
   "source": [
    "Now we initialize our solver, and tell it that it can give us every possible solution (which is fine since this is a small example)."
   ]
  },
  {
   "cell_type": "code",
   "execution_count": 11,
   "id": "7564285b-289b-4871-afcf-801ef0891488",
   "metadata": {
    "id": "7564285b-289b-4871-afcf-801ef0891488"
   },
   "outputs": [],
   "source": [
    "solver = cp_model.CpSolver()\n",
    "solver.parameters.linearization_level = 0 #Tells the model we don't need to relax the integrality constraint (i.e. all of our numbers are whole numbers).\n",
    "# Enumerate all solutions.\n",
    "solver.parameters.enumerate_all_solutions = True"
   ]
  },
  {
   "cell_type": "markdown",
   "id": "858efa9d-5f8a-48e4-abc9-02e28975135f",
   "metadata": {
    "id": "858efa9d-5f8a-48e4-abc9-02e28975135f"
   },
   "source": [
    "The last component before we call our solver is some handy (and optional) code which will print out the results as the solver works."
   ]
  },
  {
   "cell_type": "code",
   "execution_count": 12,
   "id": "197eb484-702a-41f2-941c-a064306afa15",
   "metadata": {
    "id": "197eb484-702a-41f2-941c-a064306afa15"
   },
   "outputs": [],
   "source": [
    "class NursesPartialSolutionPrinter(cp_model.CpSolverSolutionCallback):\n",
    "    \"\"\"Print intermediate solutions.\"\"\"\n",
    "\n",
    "    def __init__(self, shifts, num_nurses, num_days, num_shifts, limit):\n",
    "        cp_model.CpSolverSolutionCallback.__init__(self)\n",
    "        self._shifts = shifts\n",
    "        self._num_nurses = num_nurses\n",
    "        self._num_days = num_days\n",
    "        self._num_shifts = num_shifts\n",
    "        self._solution_count = 0\n",
    "        self._solution_limit = limit\n",
    "\n",
    "    def on_solution_callback(self):\n",
    "        self._solution_count += 1\n",
    "        print('Solution %i' % self._solution_count)\n",
    "        for d in range(self._num_days):\n",
    "            print('\\tDay %i' % d)\n",
    "            for n in range(self._num_nurses):\n",
    "                is_working = False\n",
    "                for s in range(self._num_shifts):\n",
    "                    if self.Value(self._shifts[(n, d, s)]):\n",
    "                        is_working = True\n",
    "                        print('\\t\\tNurse %i works shift %i' % (n, s))\n",
    "                if not is_working:\n",
    "                    print('\\t\\tNurse {} does not work'.format(n))\n",
    "        print()\n",
    "        if self._solution_count >= self._solution_limit:\n",
    "            print('Stop search after %i solutions' % self._solution_limit)\n",
    "            self.StopSearch()\n",
    "\n",
    "    def solution_count(self):\n",
    "        return self._solution_count\n",
    "\n",
    "# Display the first five solutions.\n",
    "solution_limit = 5\n",
    "solution_printer = NursesPartialSolutionPrinter(shifts, num_nurses,\n",
    "                                                num_days, num_shifts,\n",
    "                                                solution_limit)"
   ]
  },
  {
   "cell_type": "markdown",
   "id": "ef4c0622-e758-448a-8aae-14a9cd239e08",
   "metadata": {
    "id": "ef4c0622-e758-448a-8aae-14a9cd239e08"
   },
   "source": [
    "And now we are ready to run our solver!"
   ]
  },
  {
   "cell_type": "code",
   "execution_count": 13,
   "id": "e939ede9-a65b-4b3e-a9d7-7d8a7fb78112",
   "metadata": {
    "colab": {
     "base_uri": "https://localhost:8080/"
    },
    "id": "e939ede9-a65b-4b3e-a9d7-7d8a7fb78112",
    "outputId": "56d1c1a4-2d3b-42e2-9c2b-6f2d7c2cb0be"
   },
   "outputs": [
    {
     "name": "stdout",
     "output_type": "stream",
     "text": [
      "Solution 1\n",
      "\tDay 0\n",
      "\t\tNurse 0 does not work\n",
      "\t\tNurse 1 works shift 0\n",
      "\t\tNurse 2 works shift 1\n",
      "\t\tNurse 3 works shift 2\n",
      "\tDay 1\n",
      "\t\tNurse 0 works shift 2\n",
      "\t\tNurse 1 does not work\n",
      "\t\tNurse 2 works shift 1\n",
      "\t\tNurse 3 works shift 0\n",
      "\tDay 2\n",
      "\t\tNurse 0 works shift 2\n",
      "\t\tNurse 1 works shift 1\n",
      "\t\tNurse 2 works shift 0\n",
      "\t\tNurse 3 does not work\n",
      "\n",
      "Solution 2\n",
      "\tDay 0\n",
      "\t\tNurse 0 works shift 0\n",
      "\t\tNurse 1 does not work\n",
      "\t\tNurse 2 works shift 1\n",
      "\t\tNurse 3 works shift 2\n",
      "\tDay 1\n",
      "\t\tNurse 0 does not work\n",
      "\t\tNurse 1 works shift 2\n",
      "\t\tNurse 2 works shift 1\n",
      "\t\tNurse 3 works shift 0\n",
      "\tDay 2\n",
      "\t\tNurse 0 works shift 2\n",
      "\t\tNurse 1 works shift 1\n",
      "\t\tNurse 2 works shift 0\n",
      "\t\tNurse 3 does not work\n",
      "\n",
      "Solution 3\n",
      "\tDay 0\n",
      "\t\tNurse 0 works shift 0\n",
      "\t\tNurse 1 does not work\n",
      "\t\tNurse 2 works shift 1\n",
      "\t\tNurse 3 works shift 2\n",
      "\tDay 1\n",
      "\t\tNurse 0 works shift 1\n",
      "\t\tNurse 1 works shift 2\n",
      "\t\tNurse 2 does not work\n",
      "\t\tNurse 3 works shift 0\n",
      "\tDay 2\n",
      "\t\tNurse 0 works shift 2\n",
      "\t\tNurse 1 works shift 1\n",
      "\t\tNurse 2 works shift 0\n",
      "\t\tNurse 3 does not work\n",
      "\n",
      "Solution 4\n",
      "\tDay 0\n",
      "\t\tNurse 0 works shift 0\n",
      "\t\tNurse 1 does not work\n",
      "\t\tNurse 2 works shift 1\n",
      "\t\tNurse 3 works shift 2\n",
      "\tDay 1\n",
      "\t\tNurse 0 works shift 2\n",
      "\t\tNurse 1 works shift 1\n",
      "\t\tNurse 2 does not work\n",
      "\t\tNurse 3 works shift 0\n",
      "\tDay 2\n",
      "\t\tNurse 0 works shift 2\n",
      "\t\tNurse 1 works shift 1\n",
      "\t\tNurse 2 works shift 0\n",
      "\t\tNurse 3 does not work\n",
      "\n",
      "Solution 5\n",
      "\tDay 0\n",
      "\t\tNurse 0 does not work\n",
      "\t\tNurse 1 works shift 0\n",
      "\t\tNurse 2 works shift 1\n",
      "\t\tNurse 3 works shift 2\n",
      "\tDay 1\n",
      "\t\tNurse 0 works shift 2\n",
      "\t\tNurse 1 works shift 1\n",
      "\t\tNurse 2 does not work\n",
      "\t\tNurse 3 works shift 0\n",
      "\tDay 2\n",
      "\t\tNurse 0 works shift 2\n",
      "\t\tNurse 1 works shift 1\n",
      "\t\tNurse 2 works shift 0\n",
      "\t\tNurse 3 does not work\n",
      "\n",
      "Stop search after 5 solutions\n"
     ]
    },
    {
     "data": {
      "text/plain": [
       "2"
      ]
     },
     "execution_count": 13,
     "metadata": {},
     "output_type": "execute_result"
    }
   ],
   "source": [
    "solver.Solve(model, solution_printer)\n"
   ]
  },
  {
   "cell_type": "markdown",
   "id": "tv0jqB4Sqv6E",
   "metadata": {
    "id": "tv0jqB4Sqv6E"
   },
   "source": [
    "As you can see, the model very quickly provides us with a whole range of options that fit our criteria! This is super speedy because the example we've given is so small, but it demonstrates how a task which would be very complex to handle manually can be quickly solved using linear programming. \n",
    "\n",
    "**BONUS** (Optional)\n",
    "\n",
    "1. We only consider our schedule over three days, for a small set of nurses. Can you go back and add a wider range for the model to consider, with more staff?\n",
    "\n",
    "2. Our model is currently happy to assign a nurse to work every single day. Can you add a restriction that nurses must get at least one day off? How about more?\n",
    "\n",
    "3. A model is `feasible` if there is any solution which satisfies all the criteria. Can you add a requirement that makes this problem infeasible? \n",
    "\n",
    "4. **CHALLENGE**: Can you define shifts of different lengths, and then rewrite the existing restrictions to refer to the total number of hours worked? *Hint*: try creating separate variables for half- and full-length shifts."
   ]
  }
 ],
 "metadata": {
  "colab": {
   "collapsed_sections": [],
   "name": "Lab3.ipynb",
   "provenance": []
  },
  "kernelspec": {
   "display_name": "Python 3 (ipykernel)",
   "language": "python",
   "name": "python3"
  },
  "language_info": {
   "codemirror_mode": {
    "name": "ipython",
    "version": 3
   },
   "file_extension": ".py",
   "mimetype": "text/x-python",
   "name": "python",
   "nbconvert_exporter": "python",
   "pygments_lexer": "ipython3",
   "version": "3.9.13"
  }
 },
 "nbformat": 4,
 "nbformat_minor": 5
}
